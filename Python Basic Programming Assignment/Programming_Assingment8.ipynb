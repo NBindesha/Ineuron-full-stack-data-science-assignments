{
 "cells": [
  {
   "cell_type": "markdown",
   "id": "94117a0e",
   "metadata": {},
   "source": [
    "## 1. Write a Python Program to Add two Matrices ?"
   ]
  },
  {
   "cell_type": "code",
   "execution_count": 14,
   "id": "62d4ecc8",
   "metadata": {},
   "outputs": [
    {
     "name": "stdout",
     "output_type": "stream",
     "text": [
      " first Matrix is:  [[1 2 3]\n",
      " [4 5 6]\n",
      " [7 8 9]]\n",
      "second matrix is:  [[9 8 7]\n",
      " [6 5 4]\n",
      " [3 2 1]]\n",
      "Addition of matrix is:  [[10 10 10]\n",
      " [10 10 10]\n",
      " [10 10 10]]\n"
     ]
    }
   ],
   "source": [
    "from numpy import*\n",
    "M1=matrix(\"1 2 3 ; 4 5 6 ; 7 8 9\")\n",
    "print(\" first Matrix is: \", M1)\n",
    "M2=matrix(\"9 8 7 ; 6 5 4 ; 3 2 1\")\n",
    "print(\"second matrix is: \",M2)\n",
    "M3=M1+M2\n",
    "print(\"Addition of matrix is: \",M3)"
   ]
  },
  {
   "cell_type": "markdown",
   "id": "772a3b53",
   "metadata": {},
   "source": [
    "## 2. Write a Python Program to Multiply two Matrices ?"
   ]
  },
  {
   "cell_type": "code",
   "execution_count": 8,
   "id": "7d2a20f5",
   "metadata": {},
   "outputs": [
    {
     "name": "stdout",
     "output_type": "stream",
     "text": [
      " first Matrix is:  [[1 2 3]\n",
      " [4 5 6]\n",
      " [7 8 9]]\n",
      "second matrix is:  [[9 8 7]\n",
      " [6 5 4]\n",
      " [3 2 1]]\n",
      "Multiplication of matrix is:  [[ 30  24  18]\n",
      " [ 84  69  54]\n",
      " [138 114  90]]\n"
     ]
    }
   ],
   "source": [
    "from numpy import*\n",
    "M1=matrix(\"1 2 3 ; 4 5 6 ; 7 8 9\")\n",
    "print(\" first Matrix is: \",M1)\n",
    "M2=matrix(\"9 8 7 ; 6 5 4 ; 3 2 1\")\n",
    "print(\"second matrix is: \",M2)\n",
    "M3=M1*M2\n",
    "print(\"Multiplication of matrix is: \",M3)"
   ]
  },
  {
   "cell_type": "markdown",
   "id": "1738d941",
   "metadata": {},
   "source": [
    "## 3. Write a Python Program to transpose a Matrix ?"
   ]
  },
  {
   "cell_type": "code",
   "execution_count": 18,
   "id": "a8e6b2c5",
   "metadata": {},
   "outputs": [
    {
     "name": "stdout",
     "output_type": "stream",
     "text": [
      " first Matrix is:  [[1 2 3]\n",
      " [4 5 6]\n",
      " [7 8 9]]\n",
      "transpose of matrix is:  [[1 4 7]\n",
      " [2 5 8]\n",
      " [3 6 9]]\n"
     ]
    }
   ],
   "source": [
    "from numpy import*\n",
    "M1=matrix(\"1 2 3 ; 4 5 6 ; 7 8 9\")\n",
    "print(\" first Matrix is: \",M1)\n",
    "\n",
    "M2=M1.transpose()\n",
    "print(\"transpose of matrix is: \",M2)"
   ]
  },
  {
   "cell_type": "markdown",
   "id": "6e39bd19",
   "metadata": {},
   "source": [
    "## 4. Write a Python Program to sort Words in an Alphabatical Order ?"
   ]
  },
  {
   "cell_type": "code",
   "execution_count": 21,
   "id": "f1d852a4",
   "metadata": {},
   "outputs": [
    {
     "name": "stdout",
     "output_type": "stream",
     "text": [
      "Enter a string: boy axe apple bug candy copper zebra umpire lion\n",
      "apple\n",
      "axe\n",
      "boy\n",
      "bug\n",
      "candy\n",
      "copper\n",
      "lion\n",
      "umpire\n",
      "zebra\n"
     ]
    }
   ],
   "source": [
    "my_str = input(\"Enter a string: \")  \n",
    " \n",
    "words = my_str.split()  \n",
    "\n",
    "words.sort()  \n",
    " \n",
    "for word in words:  \n",
    "   print(word)  "
   ]
  },
  {
   "cell_type": "markdown",
   "id": "e6df8e7a",
   "metadata": {},
   "source": [
    "## 5. Write a Python Program to remove Punctuations From a String ?"
   ]
  },
  {
   "cell_type": "code",
   "execution_count": 22,
   "id": "055da252",
   "metadata": {},
   "outputs": [
    {
     "name": "stdout",
     "output_type": "stream",
     "text": [
      "Enter a String: \"Full Stacks DS\" @ Ineuron\n",
      "Full Stacks DS  Ineuron\n"
     ]
    }
   ],
   "source": [
    "def removePunctuatuions():\n",
    "    punctuations = '''!()-[]{};:'\"\\,<>./?@#$%^&*_~'''\n",
    "    in_string = input('Enter a String: ')\n",
    "    out_string = ''\n",
    "    for ele in in_string:\n",
    "        if ele not in punctuations:\n",
    "            out_string += ele\n",
    "    print(out_string)\n",
    "    \n",
    "removePunctuatuions()\n"
   ]
  }
 ],
 "metadata": {
  "kernelspec": {
   "display_name": "Python 3 (ipykernel)",
   "language": "python",
   "name": "python3"
  },
  "language_info": {
   "codemirror_mode": {
    "name": "ipython",
    "version": 3
   },
   "file_extension": ".py",
   "mimetype": "text/x-python",
   "name": "python",
   "nbconvert_exporter": "python",
   "pygments_lexer": "ipython3",
   "version": "3.9.13"
  }
 },
 "nbformat": 4,
 "nbformat_minor": 5
}
