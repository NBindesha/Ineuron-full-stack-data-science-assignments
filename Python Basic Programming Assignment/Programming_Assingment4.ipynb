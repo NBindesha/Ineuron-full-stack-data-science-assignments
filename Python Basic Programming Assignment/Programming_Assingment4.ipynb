{
 "cells": [
  {
   "cell_type": "markdown",
   "id": "b5e330bf",
   "metadata": {},
   "source": [
    "1.\tWrite a Python Program to Find the Factorial of a Number?"
   ]
  },
  {
   "cell_type": "code",
   "execution_count": 2,
   "id": "00075354",
   "metadata": {},
   "outputs": [
    {
     "name": "stdout",
     "output_type": "stream",
     "text": [
      "10\n",
      "factorial of the entered number is: 3628800\n"
     ]
    }
   ],
   "source": [
    "def fact(n):\n",
    "    f=1\n",
    "    for i in range(1,n+1):\n",
    "        f=f*i\n",
    "    return f\n",
    "    \n",
    "n=int(input())\n",
    "print(\"factorial of the entered number is:\",fact(n))"
   ]
  },
  {
   "cell_type": "markdown",
   "id": "22b0de55",
   "metadata": {},
   "source": [
    "2.\tWrite a Python Program to Display the multiplication Table?"
   ]
  },
  {
   "cell_type": "code",
   "execution_count": 4,
   "id": "0dccf86d",
   "metadata": {},
   "outputs": [
    {
     "name": "stdout",
     "output_type": "stream",
     "text": [
      "enter the number:10\n",
      "10 x 1 = 10\n",
      "10 x 2 = 20\n",
      "10 x 3 = 30\n",
      "10 x 4 = 40\n",
      "10 x 5 = 50\n",
      "10 x 6 = 60\n",
      "10 x 7 = 70\n",
      "10 x 8 = 80\n",
      "10 x 9 = 90\n",
      "10 x 10 = 100\n"
     ]
    }
   ],
   "source": [
    "n=int(input(\"enter the number:\"))\n",
    "for i in range(1,11):\n",
    "    mul= n*i\n",
    "    print(n,\"x\",i,\"=\",mul)"
   ]
  },
  {
   "cell_type": "markdown",
   "id": "41158229",
   "metadata": {},
   "source": [
    "3.  Write a Python Program to Print the Fibonacci sequence?"
   ]
  },
  {
   "cell_type": "code",
   "execution_count": 9,
   "id": "54d6c5c8",
   "metadata": {},
   "outputs": [
    {
     "name": "stdout",
     "output_type": "stream",
     "text": [
      "Enter the no of fibonacci sequences you want?: 10\n",
      "0\n",
      "1\n",
      "1\n",
      "2\n",
      "3\n",
      "5\n",
      "8\n",
      "13\n",
      "21\n",
      "34\n",
      "None\n"
     ]
    }
   ],
   "source": [
    "def fib(n):\n",
    "    a=0\n",
    "    b=1\n",
    "    if n<=0:\n",
    "        print(\"cannot be negative or zero\")\n",
    "    elif n==1:\n",
    "        print(a)\n",
    "    elif n==2:\n",
    "        print(a)\n",
    "        print(b)\n",
    "    else:\n",
    "        print(a)\n",
    "        print(b)\n",
    "        for i in range(2,n):\n",
    "            c=a+b\n",
    "            a=b\n",
    "            b=c\n",
    "            print(c)\n",
    "\n",
    "n=int(input(\"Enter the no of fibonacci sequences you want?: \"))\n",
    "print(fib(n))\n",
    "            "
   ]
  },
  {
   "cell_type": "markdown",
   "id": "9fb805c7",
   "metadata": {},
   "source": [
    "4.\tWrite a Python Program to Check Armstrong Number?"
   ]
  },
  {
   "cell_type": "code",
   "execution_count": 47,
   "id": "d457f0e0",
   "metadata": {
    "scrolled": true
   },
   "outputs": [
    {
     "name": "stdout",
     "output_type": "stream",
     "text": [
      "Enter a number: 153\n",
      "Is an armstrong number\n"
     ]
    }
   ],
   "source": [
    "num = (input(\"Enter a number: \"))\n",
    "sum = 0\n",
    "for i in range(0, len(num)):\n",
    "\tsum=sum+ pow(int(num[i]), len(num))\n",
    "if int(num) == sum:\n",
    "\tprint('Is an armstrong number')\n",
    "else:\n",
    "\tprint(\"Not an armstrong number\")\n",
    "\n"
   ]
  },
  {
   "cell_type": "markdown",
   "id": "7e940f5c",
   "metadata": {},
   "source": [
    "5.\tWrite a Python Program to Find Armstrong Number in an Interval?"
   ]
  },
  {
   "cell_type": "code",
   "execution_count": 48,
   "id": "21ac0a9e",
   "metadata": {},
   "outputs": [
    {
     "name": "stdout",
     "output_type": "stream",
     "text": [
      "Enter lower range: 0\n",
      "Enter upper range: 1000\n",
      "0\n",
      "1\n",
      "2\n",
      "3\n",
      "4\n",
      "5\n",
      "6\n",
      "7\n",
      "8\n",
      "9\n",
      "153\n",
      "370\n",
      "371\n",
      "407\n"
     ]
    }
   ],
   "source": [
    "lower = int(input(\"Enter lower range: \"))  \n",
    "upper = int(input(\"Enter upper range: \"))  \n",
    "  \n",
    "for num in range(lower,upper + 1):  \n",
    "    num=str(num)\n",
    "    sum = 0\n",
    "    for i in range(0, len(num)):\n",
    "\t    sum=sum+ pow(int(num[i]), len(num))\n",
    "    if int(num) == sum:\n",
    "\t    print(num)"
   ]
  },
  {
   "cell_type": "markdown",
   "id": "dc787e5d",
   "metadata": {},
   "source": [
    "6.\tWrite a Python Program to Find the Sum of Natural Numbers?"
   ]
  },
  {
   "cell_type": "code",
   "execution_count": 50,
   "id": "e0b3048d",
   "metadata": {},
   "outputs": [
    {
     "name": "stdout",
     "output_type": "stream",
     "text": [
      "Enter the number: 100\n",
      "5050.0\n"
     ]
    }
   ],
   "source": [
    "n=int(input(\"Enter the number: \"))\n",
    "sum=n*((n+1)/2)\n",
    "print(sum)"
   ]
  }
 ],
 "metadata": {
  "kernelspec": {
   "display_name": "Python 3 (ipykernel)",
   "language": "python",
   "name": "python3"
  },
  "language_info": {
   "codemirror_mode": {
    "name": "ipython",
    "version": 3
   },
   "file_extension": ".py",
   "mimetype": "text/x-python",
   "name": "python",
   "nbconvert_exporter": "python",
   "pygments_lexer": "ipython3",
   "version": "3.9.13"
  }
 },
 "nbformat": 4,
 "nbformat_minor": 5
}
