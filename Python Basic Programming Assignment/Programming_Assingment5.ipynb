{
 "cells": [
  {
   "cell_type": "markdown",
   "id": "cd0f5afb",
   "metadata": {},
   "source": [
    "1.\tWrite a Python Program to Find LCM?"
   ]
  },
  {
   "cell_type": "code",
   "execution_count": 18,
   "id": "d627ea02",
   "metadata": {},
   "outputs": [
    {
     "name": "stdout",
     "output_type": "stream",
     "text": [
      "Enter first Number\n",
      "13\n",
      "Enter second Number\n",
      "19\n",
      "LCM of the numbers is:  247\n"
     ]
    }
   ],
   "source": [
    "a = int(input (\"Enter first Number\\n\"))\n",
    "b = int(input(\"Enter second Number\\n\"))\n",
    "maxNum = max(a,b)\n",
    "while(True):\n",
    "       if( maxNum%a==0 and maxNum%b == 0):\n",
    "            break\n",
    "       maxNum = maxNum + 1\n",
    "print(\"LCM of the numbers is: \",maxNum)\n"
   ]
  },
  {
   "cell_type": "markdown",
   "id": "02847092",
   "metadata": {},
   "source": [
    "2.\tWrite a Python Program to Find HCF?"
   ]
  },
  {
   "cell_type": "code",
   "execution_count": 23,
   "id": "8b1733ca",
   "metadata": {
    "scrolled": true
   },
   "outputs": [
    {
     "name": "stdout",
     "output_type": "stream",
     "text": [
      "Enter first Number\n",
      "18\n",
      "Enter second Number\n",
      "62\n",
      "HCF of the two numbers is:  2\n"
     ]
    }
   ],
   "source": [
    "a = int(input (\"Enter first Number\\n\"))\n",
    "b = int(input(\"Enter second Number\\n\"))\n",
    "maxnum=max(a,b)\n",
    "for i in range(1,maxnum+1):\n",
    "    if a%i==0 and b%i==0:\n",
    "        hcf=i\n",
    "print(\"HCF of the two numbers is: \",hcf)"
   ]
  },
  {
   "cell_type": "markdown",
   "id": "560376f3",
   "metadata": {},
   "source": [
    "3.\tWrite a Python Program to Convert Decimal to Binary, Octal and Hexadecimal?"
   ]
  },
  {
   "cell_type": "code",
   "execution_count": 24,
   "id": "c383e15a",
   "metadata": {},
   "outputs": [
    {
     "name": "stdout",
     "output_type": "stream",
     "text": [
      "Enter a Number: 516541\n",
      "Binary Number -> 0b1111110000110111101\n",
      "Octal Number -> 0o1760675\n",
      "Hexadecimal Number -> 0x7e1bd\n"
     ]
    }
   ],
   "source": [
    "def DecimalToOther():\n",
    "    num = int(input('Enter a Number: '))\n",
    "    print(f'Binary Number -> {bin(num)}')\n",
    "    print(f'Octal Number -> {oct(num)}')    \n",
    "    print(f'Hexadecimal Number -> {hex(num)}')    \n",
    "\n",
    "DecimalToOther()"
   ]
  },
  {
   "cell_type": "markdown",
   "id": "ffacf347",
   "metadata": {},
   "source": [
    "4.\tWrite a Python Program To Find ASCII value of a character?"
   ]
  },
  {
   "cell_type": "code",
   "execution_count": 25,
   "id": "534e63d7",
   "metadata": {},
   "outputs": [
    {
     "name": "stdout",
     "output_type": "stream",
     "text": [
      "Enter a Character: b\n",
      "Ascii Character of b is 98\n"
     ]
    }
   ],
   "source": [
    "def charToAscii():\n",
    "    char = input('Enter a Character: ')\n",
    "    if len(char) > 1:\n",
    "        print('Please Enter a Single Character')\n",
    "    else:\n",
    "        print(f'Ascii Character of {char} is {ord(char)}')\n",
    "\n",
    "charToAscii()"
   ]
  },
  {
   "cell_type": "markdown",
   "id": "0580060e",
   "metadata": {},
   "source": [
    "5.\tWrite a Python Program to Make a Simple Calculator with 4 basic mathematical operations?"
   ]
  },
  {
   "cell_type": "code",
   "execution_count": 26,
   "id": "0a02d41d",
   "metadata": {},
   "outputs": [
    {
     "name": "stdout",
     "output_type": "stream",
     "text": [
      "Select a Arithmetic Operation:         \n",
      "1.Addition(+)        \n",
      "2.Division(-)        \n",
      "2.Multiplication(*)        \n",
      "4.Division(/)        \n",
      "3.Stop(0)\n",
      "\n",
      "Enter a arithmetic operation -> +\n",
      "\n",
      "Enter 1st Number: 10\n",
      "Enter 2nd Number: 20\n",
      "10+20=30\n",
      "\n",
      "Enter a arithmetic operation -> -\n",
      "\n",
      "Enter 1st Number: 95\n",
      "Enter 2nd Number: 56\n",
      "95-56=39\n",
      "\n",
      "Enter a arithmetic operation -> *\n",
      "\n",
      "Enter 1st Number: 5\n",
      "Enter 2nd Number: 6\n",
      "5*6=30\n",
      "\n",
      "Enter a arithmetic operation -> /\n",
      "\n",
      "Enter 1st Number: 96\n",
      "Enter 2nd Number: 4\n",
      "96/4=24.0\n",
      "\n",
      "Enter a arithmetic operation -> 0\n",
      "Program Stopped successfully\n"
     ]
    }
   ],
   "source": [
    "import operator\n",
    "\n",
    "ops = { \"+\": operator.add, \"-\": operator.sub, \"*\":operator.mul, \"/\":operator.truediv } \n",
    "\n",
    "print('Select a Arithmetic Operation: \\\n",
    "        \\n1.Addition(+)\\\n",
    "        \\n2.Division(-)\\\n",
    "        \\n2.Multiplication(*)\\\n",
    "        \\n4.Division(/)\\\n",
    "        \\n3.Stop(0)\\n')\n",
    "   \n",
    "\n",
    "while True:\n",
    "    operator = input('Enter a arithmetic operation -> ')\n",
    "    if operator == '0':\n",
    "        print(\"Program Stopped successfully\")\n",
    "        break\n",
    "    elif operator not in ['+','-','*','/']:\n",
    "        print(\"Please enter a valid operator\")\n",
    "    else:\n",
    "        num_1 = int(input('\\nEnter 1st Number: '))\n",
    "        num_2 = int(input('Enter 2nd Number: '))\n",
    "        print(f'{num_1}{operator}{num_2}={ops[operator](num_1,num_2)}\\n')"
   ]
  },
  {
   "cell_type": "code",
   "execution_count": null,
   "id": "939c2063",
   "metadata": {},
   "outputs": [],
   "source": []
  }
 ],
 "metadata": {
  "kernelspec": {
   "display_name": "Python 3 (ipykernel)",
   "language": "python",
   "name": "python3"
  },
  "language_info": {
   "codemirror_mode": {
    "name": "ipython",
    "version": 3
   },
   "file_extension": ".py",
   "mimetype": "text/x-python",
   "name": "python",
   "nbconvert_exporter": "python",
   "pygments_lexer": "ipython3",
   "version": "3.9.13"
  }
 },
 "nbformat": 4,
 "nbformat_minor": 5
}
