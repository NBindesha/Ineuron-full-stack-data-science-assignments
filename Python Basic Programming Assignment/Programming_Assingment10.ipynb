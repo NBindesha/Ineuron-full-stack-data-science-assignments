{
 "cells": [
  {
   "cell_type": "markdown",
   "id": "f98ae7d5",
   "metadata": {},
   "source": [
    "1.Write a Python Program to find sum of elements in a list ?"
   ]
  },
  {
   "cell_type": "code",
   "execution_count": 3,
   "id": "fdde6ddf",
   "metadata": {},
   "outputs": [
    {
     "name": "stdout",
     "output_type": "stream",
     "text": [
      "enter the number of elements5\n",
      "enter the value: 1\n",
      "enter the value: 2\n",
      "enter the value: 3\n",
      "enter the value: 4\n",
      "enter the value: 5\n",
      "list is:  [1, 2, 3, 4, 5]\n",
      "15\n"
     ]
    }
   ],
   "source": [
    "n=int(input(\"enter the number of elements\"))\n",
    "lst=[]\n",
    "for i in range(0,n):\n",
    "    x=int(input(\"enter the value: \"))\n",
    "    lst.append(x)\n",
    "print(\"list is: \",lst)\n",
    "sum=0\n",
    "for j in lst:\n",
    "    sum=sum+j\n",
    "print(sum)"
   ]
  },
  {
   "cell_type": "markdown",
   "id": "5842fb9c",
   "metadata": {},
   "source": [
    "2.Write a Python Program to multiply all numbers in the list ?"
   ]
  },
  {
   "cell_type": "code",
   "execution_count": 4,
   "id": "4a174dcd",
   "metadata": {},
   "outputs": [
    {
     "name": "stdout",
     "output_type": "stream",
     "text": [
      "enter the number of elements5\n",
      "enter the value: 1\n",
      "enter the value: 2\n",
      "enter the value: 3\n",
      "enter the value: 4\n",
      "enter the value: 5\n",
      "list is:  [1, 2, 3, 4, 5]\n",
      "120\n"
     ]
    }
   ],
   "source": [
    "n=int(input(\"enter the number of elements\"))\n",
    "lst=[]\n",
    "for i in range(0,n):\n",
    "    x=int(input(\"enter the value: \"))\n",
    "    lst.append(x)\n",
    "print(\"list is: \",lst)\n",
    "mult=1\n",
    "for j in lst:\n",
    "    mult=mult*j\n",
    "print(mult)"
   ]
  },
  {
   "cell_type": "markdown",
   "id": "851d58c3",
   "metadata": {},
   "source": [
    "3.Write a Python Program to find smallest number in the list ?"
   ]
  },
  {
   "cell_type": "code",
   "execution_count": 5,
   "id": "20e71bbc",
   "metadata": {},
   "outputs": [
    {
     "name": "stdout",
     "output_type": "stream",
     "text": [
      "enter the number of elements5\n",
      "enter the value: 20\n",
      "enter the value: 35\n",
      "enter the value: 78\n",
      "enter the value: 1\n",
      "enter the value: 8\n",
      "list is:  [20, 35, 78, 1, 8]\n",
      "1\n"
     ]
    }
   ],
   "source": [
    "n=int(input(\"enter the number of elements\"))\n",
    "lst=[]\n",
    "for i in range(0,n):\n",
    "    x=int(input(\"enter the value: \"))\n",
    "    lst.append(x)\n",
    "print(\"list is: \",lst)\n",
    "small=lst[0]\n",
    "for j in lst:\n",
    "    if j<=small:\n",
    "        small=j\n",
    "print(small)"
   ]
  },
  {
   "cell_type": "markdown",
   "id": "c110dc47",
   "metadata": {},
   "source": [
    "4.Write a Python Program to find largest number in the list ?"
   ]
  },
  {
   "cell_type": "code",
   "execution_count": 8,
   "id": "f0938572",
   "metadata": {},
   "outputs": [
    {
     "name": "stdout",
     "output_type": "stream",
     "text": [
      "enter the number of elements:5\n",
      "enter the value: 789\n",
      "enter the value: 325\n",
      "enter the value: 452\n",
      "enter the value: 985\n",
      "enter the value: 65\n",
      "list is:  [789, 325, 452, 985, 65]\n",
      "985\n"
     ]
    }
   ],
   "source": [
    "n=int(input(\"enter the number of elements:\"))\n",
    "lst=[]\n",
    "for i in range(0,n):\n",
    "    x=int(input(\"enter the value: \"))\n",
    "    lst.append(x)\n",
    "print(\"list is: \",lst)\n",
    "big=max(lst)\n",
    "print(big)"
   ]
  },
  {
   "cell_type": "markdown",
   "id": "44062034",
   "metadata": {},
   "source": [
    "5.Write a Python Program to find second largest number in the list ?"
   ]
  },
  {
   "cell_type": "code",
   "execution_count": 10,
   "id": "4221912f",
   "metadata": {},
   "outputs": [
    {
     "name": "stdout",
     "output_type": "stream",
     "text": [
      "enter the number of elements:5\n",
      "enter the value: 78\n",
      "enter the value: 65\n",
      "enter the value: 15\n",
      "enter the value: 42\n",
      "enter the value: 35\n",
      "list is:  [78, 65, 15, 42, 35]\n",
      "65\n"
     ]
    }
   ],
   "source": [
    "n=int(input(\"enter the number of elements:\"))\n",
    "lst=[]\n",
    "for i in range(0,n):\n",
    "    x=int(input(\"enter the value: \"))\n",
    "    lst.append(x)\n",
    "print(\"list is: \",lst)\n",
    "lst.sort()\n",
    "print(lst[-2])"
   ]
  },
  {
   "cell_type": "markdown",
   "id": "a1d6dffc",
   "metadata": {},
   "source": [
    "6.Write a Python Program to find N largest elements in the list ?"
   ]
  },
  {
   "cell_type": "code",
   "execution_count": 18,
   "id": "77cc376d",
   "metadata": {},
   "outputs": [
    {
     "name": "stdout",
     "output_type": "stream",
     "text": [
      "enter the number of elements:5\n",
      "enter the value: 78\n",
      "enter the value: 96\n",
      "enter the value: 24\n",
      "enter the value: 65\n",
      "enter the value: 12\n",
      "[12, 24, 65, 78, 96]\n",
      "enter the number of largest elements to find3\n",
      "the 3 largest numbers are:  [96, 78, 65]\n"
     ]
    }
   ],
   "source": [
    "def createlst():\n",
    "    \n",
    "    n=int(input(\"enter the number of elements:\"))\n",
    "    lst=[]\n",
    "    for i in range(0,n):\n",
    "        x=int(input(\"enter the value: \"))\n",
    "        lst.append(x)\n",
    "    return(lst)\n",
    "k=createlst()\n",
    "k.sort()\n",
    "print(k)\n",
    "num=int(input(\"enter the number of largest elements to find\"))\n",
    "lst2=[]\n",
    "for j in range(1,num+1):\n",
    "    z=k[-j]\n",
    "    lst2.append(z)\n",
    "print(\"the\",num,\"largest numbers are: \",lst2)\n"
   ]
  },
  {
   "cell_type": "markdown",
   "id": "d935d3d7",
   "metadata": {},
   "source": [
    "7.Write a Python Program to find even numbers in the list ?"
   ]
  },
  {
   "cell_type": "code",
   "execution_count": 20,
   "id": "ec0043c6",
   "metadata": {},
   "outputs": [
    {
     "name": "stdout",
     "output_type": "stream",
     "text": [
      "enter the number of elements:10\n",
      "enter the value: 1\n",
      "enter the value: 2\n",
      "enter the value: 3\n",
      "enter the value: 4\n",
      "enter the value: 5\n",
      "enter the value: 6\n",
      "enter the value: 7\n",
      "enter the value: 8\n",
      "enter the value: 9\n",
      "enter the value: 10\n",
      "[2, 4, 6, 8, 10]\n"
     ]
    }
   ],
   "source": [
    "def createlst():\n",
    "    \n",
    "    n=int(input(\"enter the number of elements:\"))\n",
    "    lst=[]\n",
    "    for i in range(0,n):\n",
    "        x=int(input(\"enter the value: \"))\n",
    "        lst.append(x)\n",
    "    return(lst)\n",
    "k=createlst()\n",
    "lst3=[]\n",
    "for j in k:\n",
    "    if j%2==0:\n",
    "        lst3.append(j)\n",
    "print(lst3)"
   ]
  },
  {
   "cell_type": "markdown",
   "id": "a2abe7c5",
   "metadata": {},
   "source": [
    "8.Write a Python Program to find odd numbers in the list ?"
   ]
  },
  {
   "cell_type": "code",
   "execution_count": 21,
   "id": "0458e82d",
   "metadata": {},
   "outputs": [
    {
     "name": "stdout",
     "output_type": "stream",
     "text": [
      "enter the number of elements:10\n",
      "enter the value: 1\n",
      "enter the value: 2\n",
      "enter the value: 3\n",
      "enter the value: 4\n",
      "enter the value: 5\n",
      "enter the value: 6\n",
      "enter the value: 7\n",
      "enter the value: 8\n",
      "enter the value: 9\n",
      "enter the value: 10\n",
      "[1, 3, 5, 7, 9]\n"
     ]
    }
   ],
   "source": [
    "def createlst():\n",
    "    \n",
    "    n=int(input(\"enter the number of elements:\"))\n",
    "    lst=[]\n",
    "    for i in range(0,n):\n",
    "        x=int(input(\"enter the value: \"))\n",
    "        lst.append(x)\n",
    "    return(lst)\n",
    "k=createlst()\n",
    "lst3=[]\n",
    "for j in k:\n",
    "    if j%2!=0:\n",
    "        lst3.append(j)\n",
    "print(lst3)"
   ]
  },
  {
   "cell_type": "markdown",
   "id": "f86df60d",
   "metadata": {},
   "source": [
    "9.Write a Python Program to remove empty list from list ?"
   ]
  },
  {
   "cell_type": "code",
   "execution_count": 23,
   "id": "1db1220e",
   "metadata": {},
   "outputs": [
    {
     "name": "stdout",
     "output_type": "stream",
     "text": [
      "Enter all elements of the list: [12,13,14,[],17]\n",
      "There is an Empty list in [12, 13, 14, [], 17] at Position 3\n",
      "The List after removing [] is [12, 13, 14, 17]\n"
     ]
    }
   ],
   "source": [
    "def checkEmptyList():\n",
    "    in_list = eval(input('Enter all elements of the list: '))\n",
    "    if [] in in_list:\n",
    "        print(f'There is an Empty list in {in_list} at Position {in_list.index([])}')\n",
    "        in_list.remove([])\n",
    "        print(f'The List after removing [] is {in_list}')\n",
    "    else:\n",
    "        print(f'There is no [] List in the list {in_list}')\n",
    "        \n",
    "checkEmptyList()"
   ]
  },
  {
   "cell_type": "markdown",
   "id": "4588b9c4",
   "metadata": {},
   "source": [
    "10.Write a Python Program to Cloning or Copying a list ?"
   ]
  },
  {
   "cell_type": "code",
   "execution_count": 24,
   "id": "5a32abf3",
   "metadata": {},
   "outputs": [
    {
     "name": "stdout",
     "output_type": "stream",
     "text": [
      "Enter a list[1,2,3,4,5,6,7,8,9,0]\n",
      "[1, 2, 3, 4, 5, 6, 7, 8, 9, 0] 2962001660544\n",
      "[1, 2, 3, 4, 5, 6, 7, 8, 9, 0] 2962001709952\n"
     ]
    }
   ],
   "source": [
    "import copy\n",
    "\n",
    "def cloneList():\n",
    "    in_list = eval(input('Enter a list'))\n",
    "    print(in_list, id(in_list))\n",
    "    cloned_list = in_list.copy()\n",
    "    print(cloned_list, id(cloned_list))\n",
    "\n",
    "cloneList()\n"
   ]
  },
  {
   "cell_type": "markdown",
   "id": "3c1c9ec9",
   "metadata": {},
   "source": [
    "11.Write a Python Program to count occurences of an element in a list ?"
   ]
  },
  {
   "cell_type": "code",
   "execution_count": 25,
   "id": "701e351c",
   "metadata": {},
   "outputs": [
    {
     "name": "stdout",
     "output_type": "stream",
     "text": [
      "Enter the elements of the list: [1,2,3,1,2,3,1,2,3,4,5,6,4,5,6]\n",
      "Enter the element to find: 2\n",
      "There are 3 occurences of 2 in [1, 2, 3, 1, 2, 3, 1, 2, 3, 4, 5, 6, 4, 5, 6]\n"
     ]
    }
   ],
   "source": [
    "def checkOccurence():\n",
    "    in_list = eval(input('Enter the elements of the list: '))\n",
    "    in_num = eval(input('Enter the element to find: '))\n",
    "    count = 0\n",
    "    if in_num in in_list:\n",
    "        for ele in in_list:\n",
    "            if ele == in_num:\n",
    "                count = count+1\n",
    "    print(f'There are {count} occurences of {in_num} in {in_list}')\n",
    "    \n",
    "checkOccurence()"
   ]
  }
 ],
 "metadata": {
  "kernelspec": {
   "display_name": "Python 3 (ipykernel)",
   "language": "python",
   "name": "python3"
  },
  "language_info": {
   "codemirror_mode": {
    "name": "ipython",
    "version": 3
   },
   "file_extension": ".py",
   "mimetype": "text/x-python",
   "name": "python",
   "nbconvert_exporter": "python",
   "pygments_lexer": "ipython3",
   "version": "3.9.13"
  }
 },
 "nbformat": 4,
 "nbformat_minor": 5
}
