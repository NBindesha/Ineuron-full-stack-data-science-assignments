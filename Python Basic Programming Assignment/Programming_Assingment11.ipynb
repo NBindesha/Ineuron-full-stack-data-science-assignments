{
 "cells": [
  {
   "cell_type": "markdown",
   "id": "c5ca41ac",
   "metadata": {},
   "source": [
    "1. Write a Python program to find words which are greater than given length k ?"
   ]
  },
  {
   "cell_type": "code",
   "execution_count": 3,
   "id": "fa6a762b",
   "metadata": {},
   "outputs": [
    {
     "name": "stdout",
     "output_type": "stream",
     "text": [
      "Enter the string: hello this is bindesh\n",
      "enter the length: 4\n",
      "['hello', 'this', 'is', 'bindesh']\n",
      "hello bindesh "
     ]
    }
   ],
   "source": [
    "def checklength():\n",
    "    s=input(\"Enter the string: \")\n",
    "    v=s.split(\" \")\n",
    "    c=int(input(\"enter the length: \"))\n",
    "    print(v)\n",
    "    for i in v:\n",
    "        if len(i)>c:\n",
    "            print(i,end=\" \")\n",
    "        \n",
    "    \n",
    "checklength()"
   ]
  },
  {
   "cell_type": "markdown",
   "id": "fea225c6",
   "metadata": {},
   "source": [
    "2. Write a Python program for removing i-th character from a string ?"
   ]
  },
  {
   "cell_type": "code",
   "execution_count": 12,
   "id": "218900bc",
   "metadata": {},
   "outputs": [
    {
     "name": "stdout",
     "output_type": "stream",
     "text": [
      "Enter the string: programming\n",
      "enter the nth character to want to remove: 1\n",
      "pogramming"
     ]
    }
   ],
   "source": [
    "def removechar():\n",
    "    s=input(\"Enter the string: \")\n",
    "    n=int(input(\"enter the nth character to want to remove: \"))\n",
    "    \n",
    "    for i in range(len(s)):\n",
    "        if i!=n:\n",
    "            print(s[i],end=\"\")\n",
    "removechar()\n",
    "                "
   ]
  },
  {
   "cell_type": "markdown",
   "id": "488af6a0",
   "metadata": {},
   "source": [
    "3. Write a Python program to split and join a string ?"
   ]
  },
  {
   "cell_type": "code",
   "execution_count": 13,
   "id": "43769eea",
   "metadata": {},
   "outputs": [
    {
     "name": "stdout",
     "output_type": "stream",
     "text": [
      "Enter the string: Ineuron Full Stack Data Science Course\n",
      "Split String: ['Ineuron', 'Full', 'Stack', 'Data', 'Science', 'Course']\n",
      "Join String: Ineuron Full Stack Data Science Course\n"
     ]
    }
   ],
   "source": [
    "def splitJoinString():\n",
    "    in_string = input('Enter the string: ')\n",
    "    print(f\"Split String: {in_string.split(' ')}\")\n",
    "    print(f\"Join String: {' '.join(in_string.split(' '))}\")\n",
    "\n",
    "splitJoinString()\n"
   ]
  },
  {
   "cell_type": "markdown",
   "id": "e51d8a09",
   "metadata": {},
   "source": [
    "4. Write a Python to check if a given string is binary string or not ?"
   ]
  },
  {
   "cell_type": "code",
   "execution_count": 19,
   "id": "319ae04c",
   "metadata": {},
   "outputs": [
    {
     "name": "stdout",
     "output_type": "stream",
     "text": [
      "enter the string: 100101011\n",
      "Its a binary string\n",
      "enter the string: 4587965\n",
      "Not a binary number\n"
     ]
    }
   ],
   "source": [
    "def binarycheck():\n",
    "    s=input(\"enter the string: \")\n",
    "    for i in s:\n",
    "        if int(i)==1 or int(i)==0:\n",
    "            print(\"Its a binary string\")\n",
    "            break\n",
    "        else:\n",
    "            print(\"Not a binary number\")\n",
    "            break\n",
    "binarycheck()\n",
    "binarycheck()"
   ]
  },
  {
   "cell_type": "markdown",
   "id": "d877eb0b",
   "metadata": {},
   "source": [
    "5. Write a Python program to find uncommon words from two Strings ?"
   ]
  },
  {
   "cell_type": "code",
   "execution_count": 24,
   "id": "b94fe97e",
   "metadata": {},
   "outputs": [
    {
     "name": "stdout",
     "output_type": "stream",
     "text": [
      "enter the first string: apple is a fruit\n",
      "enter the second string: banana is a fruit\n",
      "apple\n",
      "banana\n"
     ]
    }
   ],
   "source": [
    "def uncommonword():\n",
    "    str1=input(\"enter the first string: \")\n",
    "    str2=input(\"enter the second string: \")\n",
    "    str1d=str1.split(\" \")\n",
    "    str2d=str2.split(\" \")\n",
    "    for i in str1d:\n",
    "        if i in str2d:\n",
    "            pass\n",
    "        else:\n",
    "            print(i)\n",
    "    for j in str2d:\n",
    "        if j in str1d:\n",
    "            pass\n",
    "        else:\n",
    "            print(j)\n",
    "uncommonword()"
   ]
  },
  {
   "cell_type": "markdown",
   "id": "51c92168",
   "metadata": {},
   "source": [
    "6. Write a Python to find all duplicate characters in string ?"
   ]
  },
  {
   "cell_type": "code",
   "execution_count": 29,
   "id": "32862486",
   "metadata": {},
   "outputs": [
    {
     "name": "stdout",
     "output_type": "stream",
     "text": [
      "Enter the string: sdfrdsedvgtsdfrtyhvsdfgkopp\n",
      "Duplicate characters are: ['g', 'd', 'v', 'p', 'f', 't', 's', 'r']\n"
     ]
    }
   ],
   "source": [
    "def duplicateChars():\n",
    "    in_string = input('Enter the string: ')\n",
    "    non_duplicate_list = []\n",
    "    duplicate_list = []\n",
    "    for ele in in_string:\n",
    "        if ele not in non_duplicate_list:\n",
    "            non_duplicate_list.append(ele)\n",
    "        else:\n",
    "            duplicate_list.append(ele)\n",
    "    print(f'Duplicate characters are: {list(set(duplicate_list))}')\n",
    "        \n",
    "duplicateChars()\n"
   ]
  },
  {
   "cell_type": "markdown",
   "id": "8a4c3ff9",
   "metadata": {},
   "source": [
    "7. Write a Python Program to check if a string contains any special character?"
   ]
  },
  {
   "cell_type": "code",
   "execution_count": 35,
   "id": "0e50b3f3",
   "metadata": {},
   "outputs": [
    {
     "name": "stdout",
     "output_type": "stream",
     "text": [
      "enter the string: full stack data science course\n",
      "Has no special characters\n",
      "enter the string: ineuron:full stack data science course\n",
      "the string contains these special characters:  [':']\n"
     ]
    }
   ],
   "source": [
    "def checkspl():\n",
    "    s=input(\"enter the string: \")\n",
    "    spl=\"[@_!#$%^&*()<>?/\\|}{~:]\"\n",
    "    char=[]\n",
    "    for i in s:\n",
    "        if i in spl:\n",
    "            char.append(i)\n",
    "    if len(char)!=0:\n",
    "        print(\"the string contains these special characters: \",char)\n",
    "    elif len(char)==0:\n",
    "        print(\"Has no special characters\")\n",
    "checkspl()\n",
    "checkspl()\n",
    "            \n"
   ]
  },
  {
   "cell_type": "code",
   "execution_count": null,
   "id": "c8396e8e",
   "metadata": {},
   "outputs": [],
   "source": []
  }
 ],
 "metadata": {
  "kernelspec": {
   "display_name": "Python 3 (ipykernel)",
   "language": "python",
   "name": "python3"
  },
  "language_info": {
   "codemirror_mode": {
    "name": "ipython",
    "version": 3
   },
   "file_extension": ".py",
   "mimetype": "text/x-python",
   "name": "python",
   "nbconvert_exporter": "python",
   "pygments_lexer": "ipython3",
   "version": "3.9.13"
  }
 },
 "nbformat": 4,
 "nbformat_minor": 5
}
