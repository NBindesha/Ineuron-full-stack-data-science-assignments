{
 "cells": [
  {
   "cell_type": "markdown",
   "id": "7aa18232",
   "metadata": {},
   "source": [
    "1.Write a Python Program to check if the given number is a Disarium Number ?"
   ]
  },
  {
   "cell_type": "code",
   "execution_count": 15,
   "id": "699eed75",
   "metadata": {},
   "outputs": [
    {
     "name": "stdout",
     "output_type": "stream",
     "text": [
      "135\n",
      "Disarium Number\n"
     ]
    }
   ],
   "source": [
    "def disnum():\n",
    "    num=input()\n",
    "    pow=1\n",
    "    sum=0\n",
    "    for i in num:\n",
    "        sum=sum+int(i)**pow\n",
    "        pow=pow+1\n",
    "    if int(sum)==int(num):\n",
    "        print(\"Disarium Number\")\n",
    "    else:\n",
    "        print(\"NOT a Disarium Number\")\n",
    "        \n",
    "disnum()\n",
    "      "
   ]
  },
  {
   "cell_type": "markdown",
   "id": "d449515d",
   "metadata": {},
   "source": [
    "2.Write a Python Program to print all Disarium numbers between 1 to 100 ?"
   ]
  },
  {
   "cell_type": "code",
   "execution_count": 16,
   "id": "f22b1b85",
   "metadata": {},
   "outputs": [
    {
     "name": "stdout",
     "output_type": "stream",
     "text": [
      "1\n",
      "2\n",
      "3\n",
      "4\n",
      "5\n",
      "6\n",
      "7\n",
      "8\n",
      "9\n",
      "89\n"
     ]
    }
   ],
   "source": [
    "for j in range(1,101):\n",
    "    num=j\n",
    "    pow=1\n",
    "    sum=0\n",
    "    for i in str(num):\n",
    "        sum=sum+int(i)**pow\n",
    "        pow=pow+1\n",
    "        if int(sum)==int(num):\n",
    "            print(num)\n",
    "    "
   ]
  },
  {
   "cell_type": "markdown",
   "id": "ceed126c",
   "metadata": {},
   "source": [
    "3.Write a Python Program to check if the given number is Happy Number ?"
   ]
  },
  {
   "cell_type": "code",
   "execution_count": 2,
   "id": "0992b47a",
   "metadata": {},
   "outputs": [
    {
     "name": "stdout",
     "output_type": "stream",
     "text": [
      "Enter the number you have check: 19\n",
      "Happy number\n"
     ]
    }
   ],
   "source": [
    "def happynum(n):\n",
    "        n=str(n)\n",
    "        sum=0\n",
    "        \n",
    "        for i in n:\n",
    "            sum=sum+int(i)**2\n",
    "        \n",
    "        if int(sum)==1:\n",
    "            print(\"Happy number\")\n",
    "        elif int(sum)==4:\n",
    "            print(\"Not a happy number\")\n",
    "        elif sum!=1:\n",
    "            happynum(int(sum))\n",
    "        \n",
    "            \n",
    "\n",
    "n=int(input(\"Enter the number you have check: \"))    \n",
    "happynum(n)\n",
    "    \n",
    " "
   ]
  },
  {
   "cell_type": "markdown",
   "id": "caa0e778",
   "metadata": {},
   "source": [
    "4.Write a Python Program to print all Happy numbers between 1 and 100 ?"
   ]
  },
  {
   "cell_type": "code",
   "execution_count": 4,
   "id": "28f5c4cb",
   "metadata": {},
   "outputs": [
    {
     "name": "stdout",
     "output_type": "stream",
     "text": [
      "List of happy numbers between 1 and 100: \n",
      "1\n",
      " \n",
      "7\n",
      " \n",
      "10\n",
      " \n",
      "13\n",
      " \n",
      "19\n",
      " \n",
      "23\n",
      " \n",
      "28\n",
      " \n",
      "31\n",
      " \n",
      "32\n",
      " \n",
      "44\n",
      " \n",
      "49\n",
      " \n",
      "68\n",
      " \n",
      "70\n",
      " \n",
      "79\n",
      " \n",
      "82\n",
      " \n",
      "86\n",
      " \n",
      "91\n",
      " \n",
      "94\n",
      " \n",
      "97\n",
      " \n",
      "100\n",
      " \n"
     ]
    }
   ],
   "source": [
    "def isHappyNumber(num):  \n",
    "    rem = sum = 0;  \n",
    "      \n",
    "    #Calculates the sum of squares of digits  \n",
    "    while(num > 0):  \n",
    "        rem = num%10;  \n",
    "        sum = sum + (rem*rem);  \n",
    "        num = num//10;  \n",
    "    return sum;  \n",
    "          \n",
    "#Displays all happy numbers between 1 and 100  \n",
    "print(\"List of happy numbers between 1 and 100: \");  \n",
    "for i in range(1, 101):  \n",
    "    result = i;  \n",
    "      \n",
    "    #Happy number always ends with 1 and   \n",
    "    #unhappy number ends in a cycle of repeating numbers which contains 4  \n",
    "    while(result != 1 and result != 4):  \n",
    "        result = isHappyNumber(result);  \n",
    "      \n",
    "    if(result == 1):  \n",
    "        print(i),  \n",
    "        print(\" \"),  \n",
    "    \n",
    "        \n",
    "\n",
    "    \n",
    "        "
   ]
  },
  {
   "cell_type": "markdown",
   "id": "4899c321",
   "metadata": {},
   "source": [
    "5.Write a Python Program to determine whether the given number is a Harshad Number ?"
   ]
  },
  {
   "cell_type": "code",
   "execution_count": 8,
   "id": "cf191c78",
   "metadata": {},
   "outputs": [
    {
     "name": "stdout",
     "output_type": "stream",
     "text": [
      "enter the number: 24\n",
      "It's a Harshad number\n"
     ]
    }
   ],
   "source": [
    "def harshad():\n",
    "    n=int(input(\"enter the number: \"))\n",
    "    ndup=str(n)\n",
    "    sum=0\n",
    "    for i in ndup:\n",
    "        sum=sum+int(i)\n",
    "    if n%int(sum)==0:\n",
    "        print(\"It's a Harshad number\")\n",
    "    else:\n",
    "        print(\"Not a Harshad number\")\n",
    "harshad()\n",
    "        \n",
    "    "
   ]
  },
  {
   "cell_type": "markdown",
   "id": "18a8f723",
   "metadata": {},
   "source": [
    "6.Write a Python Program to print all pronic numbers between 1 and 100 ?"
   ]
  },
  {
   "cell_type": "code",
   "execution_count": 14,
   "id": "0b09eb29",
   "metadata": {},
   "outputs": [
    {
     "name": "stdout",
     "output_type": "stream",
     "text": [
      "[0, 2, 6, 12, 20, 30, 42, 56, 72, 90, 110, 132, 156, 182, 210, 240, 272, 306, 342, 380, 420, 462, 506, 552, 600, 650, 702, 756, 812, 870, 930, 992, 1056, 1122, 1190, 1260, 1332, 1406, 1482, 1560, 1640, 1722, 1806, 1892, 1980, 2070, 2162, 2256, 2352, 2450, 2550, 2652, 2756, 2862, 2970, 3080, 3192, 3306, 3422, 3540, 3660, 3782, 3906, 4032, 4160, 4290, 4422, 4556, 4692, 4830, 4970, 5112, 5256, 5402, 5550, 5700, 5852, 6006, 6162, 6320, 6480, 6642, 6806, 6972, 7140, 7310, 7482, 7656, 7832, 8010, 8190, 8372, 8556, 8742, 8930, 9120, 9312, 9506, 9702, 9900, 10100]\n"
     ]
    }
   ],
   "source": [
    "def printPronicNumbers(start=0,end=100):\n",
    "    outputList = []\n",
    "    for ele in range(start,end+1):\n",
    "        outputList.append((ele)*(ele+1))\n",
    "    print(outputList)\n",
    "                   \n",
    "printPronicNumbers()\n",
    "            \n",
    "\n",
    "            \n",
    "         \n",
    "       \n",
    "    "
   ]
  }
 ],
 "metadata": {
  "kernelspec": {
   "display_name": "Python 3 (ipykernel)",
   "language": "python",
   "name": "python3"
  },
  "language_info": {
   "codemirror_mode": {
    "name": "ipython",
    "version": 3
   },
   "file_extension": ".py",
   "mimetype": "text/x-python",
   "name": "python",
   "nbconvert_exporter": "python",
   "pygments_lexer": "ipython3",
   "version": "3.9.13"
  }
 },
 "nbformat": 4,
 "nbformat_minor": 5
}
